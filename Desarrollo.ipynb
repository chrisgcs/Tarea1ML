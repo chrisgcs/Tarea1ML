{
 "cells": [
  {
   "cell_type": "markdown",
   "metadata": {},
   "source": [
    "# Desarrollo"
   ]
  },
  {
   "cell_type": "markdown",
   "metadata": {},
   "source": [
    "## Actividad 1"
   ]
  },
  {
   "cell_type": "markdown",
   "metadata": {},
   "source": [
    "## Preguntas:\n",
    "* [a](#a)\n",
    "* [b](#b)\n",
    "* [c](#c)\n",
    "* [d](#d)\n",
    "* [e](#e)\n",
    "* [f](#f)\n",
    "* [g](#g)\n",
    "* [h](#h)\n",
    "* [i](#i)\n",
    "* [j](#j)\n",
    "* [k](#k)\n",
    "* [l](#l)\n",
    "* [m](#m)\n",
    "* [n](#n)\n",
    "* [o](#o)\n",
    "* [p](#p)\n",
    "* [q](#q)\n",
    "* [r](#r)\n",
    "* [s](#s)\n",
    "* [t](#t)\n",
    "* [u](#u)\n",
    "* [v](#v)\n",
    "* [Actividad 2](#Actividad2)"
   ]
  },
  {
   "cell_type": "markdown",
   "metadata": {},
   "source": [
    "La siguiente celda produce warnings pero ejecuta el codigo de forma correcta"
   ]
  },
  {
   "cell_type": "code",
   "execution_count": 12,
   "metadata": {},
   "outputs": [
    {
     "name": "stderr",
     "output_type": "stream",
     "text": [
      "/Users/christophergilbertcarroza/PyEnviroments/MachineLearning/lib/python3.6/site-packages/ipykernel_launcher.py:5: SettingWithCopyWarning: \n",
      "A value is trying to be set on a copy of a slice from a DataFrame\n",
      "\n",
      "See the caveats in the documentation: http://pandas.pydata.org/pandas-docs/stable/user_guide/indexing.html#returning-a-view-versus-a-copy\n",
      "  \"\"\"\n",
      "/Users/christophergilbertcarroza/PyEnviroments/MachineLearning/lib/python3.6/site-packages/ipykernel_launcher.py:7: SettingWithCopyWarning: \n",
      "A value is trying to be set on a copy of a slice from a DataFrame\n",
      "\n",
      "See the caveats in the documentation: http://pandas.pydata.org/pandas-docs/stable/user_guide/indexing.html#returning-a-view-versus-a-copy\n",
      "  import sys\n",
      "/Users/christophergilbertcarroza/PyEnviroments/MachineLearning/lib/python3.6/site-packages/ipykernel_launcher.py:11: SettingWithCopyWarning: \n",
      "A value is trying to be set on a copy of a slice from a DataFrame\n",
      "\n",
      "See the caveats in the documentation: http://pandas.pydata.org/pandas-docs/stable/user_guide/indexing.html#returning-a-view-versus-a-copy\n",
      "  # This is added back by InteractiveShellApp.init_path()\n",
      "/Users/christophergilbertcarroza/PyEnviroments/MachineLearning/lib/python3.6/site-packages/ipykernel_launcher.py:12: SettingWithCopyWarning: \n",
      "A value is trying to be set on a copy of a slice from a DataFrame\n",
      "\n",
      "See the caveats in the documentation: http://pandas.pydata.org/pandas-docs/stable/user_guide/indexing.html#returning-a-view-versus-a-copy\n",
      "  if sys.path[0] == '':\n",
      "/Users/christophergilbertcarroza/PyEnviroments/MachineLearning/lib/python3.6/site-packages/ipykernel_launcher.py:13: SettingWithCopyWarning: \n",
      "A value is trying to be set on a copy of a slice from a DataFrame\n",
      "\n",
      "See the caveats in the documentation: http://pandas.pydata.org/pandas-docs/stable/user_guide/indexing.html#returning-a-view-versus-a-copy\n",
      "  del sys.path[0]\n",
      "/Users/christophergilbertcarroza/PyEnviroments/MachineLearning/lib/python3.6/site-packages/ipykernel_launcher.py:16: SettingWithCopyWarning: \n",
      "A value is trying to be set on a copy of a slice from a DataFrame\n",
      "\n",
      "See the caveats in the documentation: http://pandas.pydata.org/pandas-docs/stable/user_guide/indexing.html#returning-a-view-versus-a-copy\n",
      "  app.launch_new_instance()\n",
      "/Users/christophergilbertcarroza/PyEnviroments/MachineLearning/lib/python3.6/site-packages/ipykernel_launcher.py:17: SettingWithCopyWarning: \n",
      "A value is trying to be set on a copy of a slice from a DataFrame\n",
      "\n",
      "See the caveats in the documentation: http://pandas.pydata.org/pandas-docs/stable/user_guide/indexing.html#returning-a-view-versus-a-copy\n",
      "/Users/christophergilbertcarroza/PyEnviroments/MachineLearning/lib/python3.6/site-packages/ipykernel_launcher.py:18: SettingWithCopyWarning: \n",
      "A value is trying to be set on a copy of a slice from a DataFrame\n",
      "\n",
      "See the caveats in the documentation: http://pandas.pydata.org/pandas-docs/stable/user_guide/indexing.html#returning-a-view-versus-a-copy\n",
      "/Users/christophergilbertcarroza/PyEnviroments/MachineLearning/lib/python3.6/site-packages/ipykernel_launcher.py:21: SettingWithCopyWarning: \n",
      "A value is trying to be set on a copy of a slice from a DataFrame\n",
      "\n",
      "See the caveats in the documentation: http://pandas.pydata.org/pandas-docs/stable/user_guide/indexing.html#returning-a-view-versus-a-copy\n",
      "/Users/christophergilbertcarroza/PyEnviroments/MachineLearning/lib/python3.6/site-packages/ipykernel_launcher.py:22: SettingWithCopyWarning: \n",
      "A value is trying to be set on a copy of a slice from a DataFrame\n",
      "\n",
      "See the caveats in the documentation: http://pandas.pydata.org/pandas-docs/stable/user_guide/indexing.html#returning-a-view-versus-a-copy\n",
      "/Users/christophergilbertcarroza/PyEnviroments/MachineLearning/lib/python3.6/site-packages/ipykernel_launcher.py:23: SettingWithCopyWarning: \n",
      "A value is trying to be set on a copy of a slice from a DataFrame\n",
      "\n",
      "See the caveats in the documentation: http://pandas.pydata.org/pandas-docs/stable/user_guide/indexing.html#returning-a-view-versus-a-copy\n"
     ]
    }
   ],
   "source": [
    "import pandas as pd\n",
    "import numpy as np\n",
    "headers = ['age','sex','chest_pain','blood_p','serum','blood_s','electro','max_heart', 'angina','oldpeak','slope','vessel','thal','normal']\n",
    "df = pd.read_csv(\"heart.dat\", header=None, names=headers, sep=' ')\n",
    "df['sex'][df['sex'] == 0] = 'female'\n",
    "df['sex'][df['sex'] == 1] = 'male'\n",
    "df['chest_pain'][df['chest_pain'] == 1] = 'typical angina'\n",
    "df['chest_pain'][df['chest_pain'] == 2] = 'atypical angina'\n",
    "df['chest_pain'][df['chest_pain'] == 3] = 'non-anginal pain'\n",
    "df['chest_pain'][df['chest_pain'] == 4] = 'asymptomatic'\n",
    "df['blood_s'][df['blood_s'] == 0] = 'lower than 120mg/ml'\n",
    "df['blood_s'][df['blood_s'] == 1] = 'greater than 120mg/ml'\n",
    "df['electro'][df['electro'] == 0] = 'normal'\n",
    "df['electro'][df['electro'] == 1] = 'ST-T wave abnormality'\n",
    "df['electro'][df['electro'] == 2] = 'left ventricular hypertrophy'\n",
    "df['angina'][df['angina'] == 0] = 'no'\n",
    "df['angina'][df['angina'] == 1] = 'yes'\n",
    "df['slope'][df['slope'] == 1] = 'upsloping'\n",
    "df['slope'][df['slope'] == 2] = 'flat'\n",
    "df['slope'][df['slope'] == 3] = 'downsloping'\n",
    "df['thal'][df['thal'] == 3] = 'normal'\n",
    "df['thal'][df['thal'] == 6] = 'fixed defect'\n",
    "df['thal'][df['thal'] == 7] = 'reversable defect'"
   ]
  },
  {
   "cell_type": "markdown",
   "metadata": {},
   "source": [
    "a)<a class=\"anchor\" id=\"a\"></a>"
   ]
  },
  {
   "cell_type": "code",
   "execution_count": 13,
   "metadata": {},
   "outputs": [
    {
     "name": "stdout",
     "output_type": "stream",
     "text": [
      "<class 'pandas.core.frame.DataFrame'>\n",
      "RangeIndex: 270 entries, 0 to 269\n",
      "Data columns (total 14 columns):\n",
      "age           270 non-null float64\n",
      "sex           270 non-null object\n",
      "chest_pain    270 non-null object\n",
      "blood_p       270 non-null float64\n",
      "serum         270 non-null float64\n",
      "blood_s       270 non-null object\n",
      "electro       270 non-null object\n",
      "max_heart     270 non-null float64\n",
      "angina        270 non-null object\n",
      "oldpeak       270 non-null float64\n",
      "slope         270 non-null object\n",
      "vessel        270 non-null float64\n",
      "thal          270 non-null object\n",
      "normal        270 non-null int64\n",
      "dtypes: float64(6), int64(1), object(7)\n",
      "memory usage: 29.7+ KB\n"
     ]
    },
    {
     "data": {
      "text/html": [
       "<div>\n",
       "<style scoped>\n",
       "    .dataframe tbody tr th:only-of-type {\n",
       "        vertical-align: middle;\n",
       "    }\n",
       "\n",
       "    .dataframe tbody tr th {\n",
       "        vertical-align: top;\n",
       "    }\n",
       "\n",
       "    .dataframe thead th {\n",
       "        text-align: right;\n",
       "    }\n",
       "</style>\n",
       "<table border=\"1\" class=\"dataframe\">\n",
       "  <thead>\n",
       "    <tr style=\"text-align: right;\">\n",
       "      <th></th>\n",
       "      <th>age</th>\n",
       "      <th>blood_p</th>\n",
       "      <th>serum</th>\n",
       "      <th>max_heart</th>\n",
       "      <th>oldpeak</th>\n",
       "      <th>vessel</th>\n",
       "      <th>normal</th>\n",
       "    </tr>\n",
       "  </thead>\n",
       "  <tbody>\n",
       "    <tr>\n",
       "      <td>count</td>\n",
       "      <td>270.000000</td>\n",
       "      <td>270.000000</td>\n",
       "      <td>270.000000</td>\n",
       "      <td>270.000000</td>\n",
       "      <td>270.00000</td>\n",
       "      <td>270.000000</td>\n",
       "      <td>270.000000</td>\n",
       "    </tr>\n",
       "    <tr>\n",
       "      <td>mean</td>\n",
       "      <td>54.433333</td>\n",
       "      <td>131.344444</td>\n",
       "      <td>249.659259</td>\n",
       "      <td>149.677778</td>\n",
       "      <td>1.05000</td>\n",
       "      <td>0.670370</td>\n",
       "      <td>1.444444</td>\n",
       "    </tr>\n",
       "    <tr>\n",
       "      <td>std</td>\n",
       "      <td>9.109067</td>\n",
       "      <td>17.861608</td>\n",
       "      <td>51.686237</td>\n",
       "      <td>23.165717</td>\n",
       "      <td>1.14521</td>\n",
       "      <td>0.943896</td>\n",
       "      <td>0.497827</td>\n",
       "    </tr>\n",
       "    <tr>\n",
       "      <td>min</td>\n",
       "      <td>29.000000</td>\n",
       "      <td>94.000000</td>\n",
       "      <td>126.000000</td>\n",
       "      <td>71.000000</td>\n",
       "      <td>0.00000</td>\n",
       "      <td>0.000000</td>\n",
       "      <td>1.000000</td>\n",
       "    </tr>\n",
       "    <tr>\n",
       "      <td>25%</td>\n",
       "      <td>48.000000</td>\n",
       "      <td>120.000000</td>\n",
       "      <td>213.000000</td>\n",
       "      <td>133.000000</td>\n",
       "      <td>0.00000</td>\n",
       "      <td>0.000000</td>\n",
       "      <td>1.000000</td>\n",
       "    </tr>\n",
       "    <tr>\n",
       "      <td>50%</td>\n",
       "      <td>55.000000</td>\n",
       "      <td>130.000000</td>\n",
       "      <td>245.000000</td>\n",
       "      <td>153.500000</td>\n",
       "      <td>0.80000</td>\n",
       "      <td>0.000000</td>\n",
       "      <td>1.000000</td>\n",
       "    </tr>\n",
       "    <tr>\n",
       "      <td>75%</td>\n",
       "      <td>61.000000</td>\n",
       "      <td>140.000000</td>\n",
       "      <td>280.000000</td>\n",
       "      <td>166.000000</td>\n",
       "      <td>1.60000</td>\n",
       "      <td>1.000000</td>\n",
       "      <td>2.000000</td>\n",
       "    </tr>\n",
       "    <tr>\n",
       "      <td>max</td>\n",
       "      <td>77.000000</td>\n",
       "      <td>200.000000</td>\n",
       "      <td>564.000000</td>\n",
       "      <td>202.000000</td>\n",
       "      <td>6.20000</td>\n",
       "      <td>3.000000</td>\n",
       "      <td>2.000000</td>\n",
       "    </tr>\n",
       "  </tbody>\n",
       "</table>\n",
       "</div>"
      ],
      "text/plain": [
       "              age     blood_p       serum   max_heart    oldpeak      vessel  \\\n",
       "count  270.000000  270.000000  270.000000  270.000000  270.00000  270.000000   \n",
       "mean    54.433333  131.344444  249.659259  149.677778    1.05000    0.670370   \n",
       "std      9.109067   17.861608   51.686237   23.165717    1.14521    0.943896   \n",
       "min     29.000000   94.000000  126.000000   71.000000    0.00000    0.000000   \n",
       "25%     48.000000  120.000000  213.000000  133.000000    0.00000    0.000000   \n",
       "50%     55.000000  130.000000  245.000000  153.500000    0.80000    0.000000   \n",
       "75%     61.000000  140.000000  280.000000  166.000000    1.60000    1.000000   \n",
       "max     77.000000  200.000000  564.000000  202.000000    6.20000    3.000000   \n",
       "\n",
       "           normal  \n",
       "count  270.000000  \n",
       "mean     1.444444  \n",
       "std      0.497827  \n",
       "min      1.000000  \n",
       "25%      1.000000  \n",
       "50%      1.000000  \n",
       "75%      2.000000  \n",
       "max      2.000000  "
      ]
     },
     "execution_count": 13,
     "metadata": {},
     "output_type": "execute_result"
    }
   ],
   "source": [
    "df.head()\n",
    "df.info()\n",
    "df.describe()"
   ]
  },
  {
   "cell_type": "code",
   "execution_count": 14,
   "metadata": {},
   "outputs": [
    {
     "data": {
      "image/png": "[encoded data removed]",
      "text/plain": [
       "<Figure size 1080x1080 with 2 Axes>"
      ]
     },
     "metadata": {
      "needs_background": "light"
     },
     "output_type": "display_data"
    }
   ],
   "source": [
    "import matplotlib.pyplot as plt\n",
    "\n",
    "f = plt.figure(figsize=(15, 15))\n",
    "plt.matshow(df.corr(), fignum=f.number)\n",
    "plt.xticks(range(df.shape[1]-7), df.corr().columns, fontsize=14, rotation=45)\n",
    "plt.yticks(range(df.shape[1]-7), df.corr().columns, fontsize=14)\n",
    "cb = plt.colorbar()\n",
    "cb.ax.tick_params(labelsize=14)\n",
    "plt.title('Correlation Matrix', fontsize=15);"
   ]
  },
  {
   "cell_type": "code",
   "execution_count": 15,
   "metadata": {},
   "outputs": [],
   "source": [
    "sanos = df.loc[df['normal'] == 1]\n",
    "enfermos = df.loc[df['normal'] == 2]"
   ]
  },
  {
   "cell_type": "code",
   "execution_count": 16,
   "metadata": {},
   "outputs": [
    {
     "data": {
      "image/png": "[encoded data removed]",
      "text/plain": [
       "<Figure size 1152x648 with 1 Axes>"
      ]
     },
     "metadata": {
      "needs_background": "light"
     },
     "output_type": "display_data"
    }
   ],
   "source": [
    "fig = plt.figure(1, figsize=(16,9))\n",
    "\n",
    "ax = fig.add_subplot(111)\n",
    "\n",
    "bps = ax.boxplot([sanos['age'], enfermos['age']],labels = [\"sanos\", \"enfermos\"])"
   ]
  },
  {
   "cell_type": "markdown",
   "metadata": {},
   "source": [
    "De este grafico se puede apreciar..."
   ]
  },
  {
   "cell_type": "code",
   "execution_count": 17,
   "metadata": {},
   "outputs": [
    {
     "data": {
      "image/png": "[encoded data removed]",
      "text/plain": [
       "<Figure size 1152x648 with 1 Axes>"
      ]
     },
     "metadata": {
      "needs_background": "light"
     },
     "output_type": "display_data"
    }
   ],
   "source": [
    "fig = plt.figure(1, figsize=(16,9))\n",
    "\n",
    "ax = fig.add_subplot(111)\n",
    "\n",
    "bps = ax.boxplot([sanos['max_heart'], enfermos['max_heart']],labels = [\"sanos\", \"enfermos\"])"
   ]
  },
  {
   "cell_type": "markdown",
   "metadata": {},
   "source": [
    "De este grafico se puede apreciar..."
   ]
  },
  {
   "cell_type": "code",
   "execution_count": 18,
   "metadata": {},
   "outputs": [
    {
     "data": {
      "image/png": "[encoded data removed]",
      "text/plain": [
       "<Figure size 1152x648 with 1 Axes>"
      ]
     },
     "metadata": {
      "needs_background": "light"
     },
     "output_type": "display_data"
    }
   ],
   "source": [
    "fig = plt.figure(1, figsize=(16,9))\n",
    "\n",
    "ax = fig.add_subplot(111)\n",
    "\n",
    "# hp = ax.bar(sanos['electro'], sanos['electro'].value_counts().values)\n",
    "\n",
    "index = np.arange(3)\n",
    "plt.bar(index-.225, sanos['electro'].value_counts().values, 0.45)\n",
    "plt.bar(index+.225, enfermos['electro'].value_counts().values,0.45)\n",
    "plt.xlabel('Resultado electro', fontsize=15)\n",
    "plt.ylabel('Frecuencia', fontsize=15)\n",
    "plt.xticks(index, sanos['electro'].unique(), fontsize=10, rotation=0)\n",
    "plt.legend([\"Sanos\",\"Enfermos\"],loc=1)\n",
    "plt.title('Cantidad de personas segun resultado de electrocardiograma y presencia de enfermedad')\n",
    "plt.show()"
   ]
  },
  {
   "cell_type": "markdown",
   "metadata": {},
   "source": [
    "De este grafico se puede apreciar..."
   ]
  },
  {
   "cell_type": "code",
   "execution_count": 19,
   "metadata": {},
   "outputs": [
    {
     "data": {
      "text/html": [
       "<div>\n",
       "<style scoped>\n",
       "    .dataframe tbody tr th:only-of-type {\n",
       "        vertical-align: middle;\n",
       "    }\n",
       "\n",
       "    .dataframe tbody tr th {\n",
       "        vertical-align: top;\n",
       "    }\n",
       "\n",
       "    .dataframe thead th {\n",
       "        text-align: right;\n",
       "    }\n",
       "</style>\n",
       "<table border=\"1\" class=\"dataframe\">\n",
       "  <thead>\n",
       "    <tr style=\"text-align: right;\">\n",
       "      <th></th>\n",
       "      <th>age</th>\n",
       "      <th>sex</th>\n",
       "      <th>chest_pain</th>\n",
       "      <th>blood_p</th>\n",
       "      <th>serum</th>\n",
       "      <th>blood_s</th>\n",
       "      <th>electro</th>\n",
       "      <th>max_heart</th>\n",
       "      <th>angina</th>\n",
       "      <th>oldpeak</th>\n",
       "      <th>slope</th>\n",
       "      <th>vessel</th>\n",
       "      <th>thal</th>\n",
       "      <th>normal</th>\n",
       "    </tr>\n",
       "  </thead>\n",
       "  <tbody>\n",
       "    <tr>\n",
       "      <td>1</td>\n",
       "      <td>67.0</td>\n",
       "      <td>female</td>\n",
       "      <td>non-anginal pain</td>\n",
       "      <td>115.0</td>\n",
       "      <td>564.0</td>\n",
       "      <td>lower than 120mg/ml</td>\n",
       "      <td>left ventricular hypertrophy</td>\n",
       "      <td>160.0</td>\n",
       "      <td>no</td>\n",
       "      <td>1.6</td>\n",
       "      <td>flat</td>\n",
       "      <td>0.0</td>\n",
       "      <td>reversable defect</td>\n",
       "      <td>1</td>\n",
       "    </tr>\n",
       "    <tr>\n",
       "      <td>3</td>\n",
       "      <td>64.0</td>\n",
       "      <td>male</td>\n",
       "      <td>asymptomatic</td>\n",
       "      <td>128.0</td>\n",
       "      <td>263.0</td>\n",
       "      <td>lower than 120mg/ml</td>\n",
       "      <td>normal</td>\n",
       "      <td>105.0</td>\n",
       "      <td>yes</td>\n",
       "      <td>0.2</td>\n",
       "      <td>flat</td>\n",
       "      <td>1.0</td>\n",
       "      <td>reversable defect</td>\n",
       "      <td>1</td>\n",
       "    </tr>\n",
       "    <tr>\n",
       "      <td>4</td>\n",
       "      <td>74.0</td>\n",
       "      <td>female</td>\n",
       "      <td>atypical angina</td>\n",
       "      <td>120.0</td>\n",
       "      <td>269.0</td>\n",
       "      <td>lower than 120mg/ml</td>\n",
       "      <td>left ventricular hypertrophy</td>\n",
       "      <td>121.0</td>\n",
       "      <td>yes</td>\n",
       "      <td>0.2</td>\n",
       "      <td>upsloping</td>\n",
       "      <td>1.0</td>\n",
       "      <td>normal</td>\n",
       "      <td>1</td>\n",
       "    </tr>\n",
       "    <tr>\n",
       "      <td>5</td>\n",
       "      <td>65.0</td>\n",
       "      <td>male</td>\n",
       "      <td>asymptomatic</td>\n",
       "      <td>120.0</td>\n",
       "      <td>177.0</td>\n",
       "      <td>lower than 120mg/ml</td>\n",
       "      <td>normal</td>\n",
       "      <td>140.0</td>\n",
       "      <td>no</td>\n",
       "      <td>0.4</td>\n",
       "      <td>upsloping</td>\n",
       "      <td>0.0</td>\n",
       "      <td>reversable defect</td>\n",
       "      <td>1</td>\n",
       "    </tr>\n",
       "    <tr>\n",
       "      <td>10</td>\n",
       "      <td>59.0</td>\n",
       "      <td>male</td>\n",
       "      <td>asymptomatic</td>\n",
       "      <td>135.0</td>\n",
       "      <td>234.0</td>\n",
       "      <td>lower than 120mg/ml</td>\n",
       "      <td>normal</td>\n",
       "      <td>161.0</td>\n",
       "      <td>no</td>\n",
       "      <td>0.5</td>\n",
       "      <td>flat</td>\n",
       "      <td>0.0</td>\n",
       "      <td>reversable defect</td>\n",
       "      <td>1</td>\n",
       "    </tr>\n",
       "  </tbody>\n",
       "</table>\n",
       "</div>"
      ],
      "text/plain": [
       "     age     sex        chest_pain  blood_p  serum              blood_s  \\\n",
       "1   67.0  female  non-anginal pain    115.0  564.0  lower than 120mg/ml   \n",
       "3   64.0    male      asymptomatic    128.0  263.0  lower than 120mg/ml   \n",
       "4   74.0  female   atypical angina    120.0  269.0  lower than 120mg/ml   \n",
       "5   65.0    male      asymptomatic    120.0  177.0  lower than 120mg/ml   \n",
       "10  59.0    male      asymptomatic    135.0  234.0  lower than 120mg/ml   \n",
       "\n",
       "                         electro  max_heart angina  oldpeak      slope  \\\n",
       "1   left ventricular hypertrophy      160.0     no      1.6       flat   \n",
       "3                         normal      105.0    yes      0.2       flat   \n",
       "4   left ventricular hypertrophy      121.0    yes      0.2  upsloping   \n",
       "5                         normal      140.0     no      0.4  upsloping   \n",
       "10                        normal      161.0     no      0.5       flat   \n",
       "\n",
       "    vessel               thal  normal  \n",
       "1      0.0  reversable defect       1  \n",
       "3      1.0  reversable defect       1  \n",
       "4      1.0             normal       1  \n",
       "5      0.0  reversable defect       1  \n",
       "10     0.0  reversable defect       1  "
      ]
     },
     "execution_count": 19,
     "metadata": {},
     "output_type": "execute_result"
    }
   ],
   "source": [
    "sanos.head() #se puede repetir el proceso de histogramas para otros atributos"
   ]
  },
  {
   "cell_type": "code",
   "execution_count": null,
   "metadata": {},
   "outputs": [],
   "source": []
  },
  {
   "cell_type": "markdown",
   "metadata": {},
   "source": [
    "b)<a class=\"anchor\" id=\"b\"></a>"
   ]
  },
  {
   "cell_type": "code",
   "execution_count": 20,
   "metadata": {},
   "outputs": [
    {
     "data": {
      "text/html": [
       "<div>\n",
       "<style scoped>\n",
       "    .dataframe tbody tr th:only-of-type {\n",
       "        vertical-align: middle;\n",
       "    }\n",
       "\n",
       "    .dataframe tbody tr th {\n",
       "        vertical-align: top;\n",
       "    }\n",
       "\n",
       "    .dataframe thead th {\n",
       "        text-align: right;\n",
       "    }\n",
       "</style>\n",
       "<table border=\"1\" class=\"dataframe\">\n",
       "  <thead>\n",
       "    <tr style=\"text-align: right;\">\n",
       "      <th></th>\n",
       "      <th>age</th>\n",
       "      <th>blood_p</th>\n",
       "      <th>serum</th>\n",
       "      <th>max_heart</th>\n",
       "      <th>oldpeak</th>\n",
       "      <th>vessel</th>\n",
       "      <th>normal</th>\n",
       "      <th>sex_female</th>\n",
       "      <th>sex_male</th>\n",
       "      <th>chest_pain_asymptomatic</th>\n",
       "      <th>...</th>\n",
       "      <th>electro_left ventricular hypertrophy</th>\n",
       "      <th>electro_normal</th>\n",
       "      <th>angina_no</th>\n",
       "      <th>angina_yes</th>\n",
       "      <th>slope_downsloping</th>\n",
       "      <th>slope_flat</th>\n",
       "      <th>slope_upsloping</th>\n",
       "      <th>thal_fixed defect</th>\n",
       "      <th>thal_normal</th>\n",
       "      <th>thal_reversable defect</th>\n",
       "    </tr>\n",
       "  </thead>\n",
       "  <tbody>\n",
       "    <tr>\n",
       "      <td>0</td>\n",
       "      <td>70.0</td>\n",
       "      <td>130.0</td>\n",
       "      <td>322.0</td>\n",
       "      <td>109.0</td>\n",
       "      <td>2.4</td>\n",
       "      <td>3.0</td>\n",
       "      <td>2</td>\n",
       "      <td>0</td>\n",
       "      <td>1</td>\n",
       "      <td>1</td>\n",
       "      <td>...</td>\n",
       "      <td>1</td>\n",
       "      <td>0</td>\n",
       "      <td>1</td>\n",
       "      <td>0</td>\n",
       "      <td>0</td>\n",
       "      <td>1</td>\n",
       "      <td>0</td>\n",
       "      <td>0</td>\n",
       "      <td>1</td>\n",
       "      <td>0</td>\n",
       "    </tr>\n",
       "    <tr>\n",
       "      <td>1</td>\n",
       "      <td>67.0</td>\n",
       "      <td>115.0</td>\n",
       "      <td>564.0</td>\n",
       "      <td>160.0</td>\n",
       "      <td>1.6</td>\n",
       "      <td>0.0</td>\n",
       "      <td>1</td>\n",
       "      <td>1</td>\n",
       "      <td>0</td>\n",
       "      <td>0</td>\n",
       "      <td>...</td>\n",
       "      <td>1</td>\n",
       "      <td>0</td>\n",
       "      <td>1</td>\n",
       "      <td>0</td>\n",
       "      <td>0</td>\n",
       "      <td>1</td>\n",
       "      <td>0</td>\n",
       "      <td>0</td>\n",
       "      <td>0</td>\n",
       "      <td>1</td>\n",
       "    </tr>\n",
       "    <tr>\n",
       "      <td>2</td>\n",
       "      <td>57.0</td>\n",
       "      <td>124.0</td>\n",
       "      <td>261.0</td>\n",
       "      <td>141.0</td>\n",
       "      <td>0.3</td>\n",
       "      <td>0.0</td>\n",
       "      <td>2</td>\n",
       "      <td>0</td>\n",
       "      <td>1</td>\n",
       "      <td>0</td>\n",
       "      <td>...</td>\n",
       "      <td>0</td>\n",
       "      <td>1</td>\n",
       "      <td>1</td>\n",
       "      <td>0</td>\n",
       "      <td>0</td>\n",
       "      <td>0</td>\n",
       "      <td>1</td>\n",
       "      <td>0</td>\n",
       "      <td>0</td>\n",
       "      <td>1</td>\n",
       "    </tr>\n",
       "    <tr>\n",
       "      <td>3</td>\n",
       "      <td>64.0</td>\n",
       "      <td>128.0</td>\n",
       "      <td>263.0</td>\n",
       "      <td>105.0</td>\n",
       "      <td>0.2</td>\n",
       "      <td>1.0</td>\n",
       "      <td>1</td>\n",
       "      <td>0</td>\n",
       "      <td>1</td>\n",
       "      <td>1</td>\n",
       "      <td>...</td>\n",
       "      <td>0</td>\n",
       "      <td>1</td>\n",
       "      <td>0</td>\n",
       "      <td>1</td>\n",
       "      <td>0</td>\n",
       "      <td>1</td>\n",
       "      <td>0</td>\n",
       "      <td>0</td>\n",
       "      <td>0</td>\n",
       "      <td>1</td>\n",
       "    </tr>\n",
       "    <tr>\n",
       "      <td>4</td>\n",
       "      <td>74.0</td>\n",
       "      <td>120.0</td>\n",
       "      <td>269.0</td>\n",
       "      <td>121.0</td>\n",
       "      <td>0.2</td>\n",
       "      <td>1.0</td>\n",
       "      <td>1</td>\n",
       "      <td>1</td>\n",
       "      <td>0</td>\n",
       "      <td>0</td>\n",
       "      <td>...</td>\n",
       "      <td>1</td>\n",
       "      <td>0</td>\n",
       "      <td>0</td>\n",
       "      <td>1</td>\n",
       "      <td>0</td>\n",
       "      <td>0</td>\n",
       "      <td>1</td>\n",
       "      <td>0</td>\n",
       "      <td>1</td>\n",
       "      <td>0</td>\n",
       "    </tr>\n",
       "  </tbody>\n",
       "</table>\n",
       "<p>5 rows × 26 columns</p>\n",
       "</div>"
      ],
      "text/plain": [
       "    age  blood_p  serum  max_heart  oldpeak  vessel  normal  sex_female  \\\n",
       "0  70.0    130.0  322.0      109.0      2.4     3.0       2           0   \n",
       "1  67.0    115.0  564.0      160.0      1.6     0.0       1           1   \n",
       "2  57.0    124.0  261.0      141.0      0.3     0.0       2           0   \n",
       "3  64.0    128.0  263.0      105.0      0.2     1.0       1           0   \n",
       "4  74.0    120.0  269.0      121.0      0.2     1.0       1           1   \n",
       "\n",
       "   sex_male  chest_pain_asymptomatic  ...  \\\n",
       "0         1                        1  ...   \n",
       "1         0                        0  ...   \n",
       "2         1                        0  ...   \n",
       "3         1                        1  ...   \n",
       "4         0                        0  ...   \n",
       "\n",
       "   electro_left ventricular hypertrophy  electro_normal  angina_no  \\\n",
       "0                                     1               0          1   \n",
       "1                                     1               0          1   \n",
       "2                                     0               1          1   \n",
       "3                                     0               1          0   \n",
       "4                                     1               0          0   \n",
       "\n",
       "   angina_yes  slope_downsloping  slope_flat  slope_upsloping  \\\n",
       "0           0                  0           1                0   \n",
       "1           0                  0           1                0   \n",
       "2           0                  0           0                1   \n",
       "3           1                  0           1                0   \n",
       "4           1                  0           0                1   \n",
       "\n",
       "   thal_fixed defect  thal_normal  thal_reversable defect  \n",
       "0                  0            1                       0  \n",
       "1                  0            0                       1  \n",
       "2                  0            0                       1  \n",
       "3                  0            0                       1  \n",
       "4                  0            1                       0  \n",
       "\n",
       "[5 rows x 26 columns]"
      ]
     },
     "execution_count": 20,
     "metadata": {},
     "output_type": "execute_result"
    }
   ],
   "source": [
    "df = pd.get_dummies(df)\n",
    "df.head()"
   ]
  },
  {
   "cell_type": "markdown",
   "metadata": {},
   "source": [
    "### Importancia _one hot vector_\n",
    "\n",
    "Para aplicar cualquier tipo de modelo de aprendizaje es necesario pasar valores categoricos a valores numericos ya que las operaciones matematicas que se realizan lo requiere. Un acercamiento alternativo para pasar de valor categorico a numerico seria asignar un valor numerico para las distintas categorias, pero caemos en un problema. Digamos que female = 2 y male = 1, esto asigna valor mayor a una de las categorias y por ende se podria decir que female > male por el valor que se les asigno.\n",
    "\n",
    "En cambio al binarizar y convertir las categorias en features del modelo, es posible entrenarlo sin ningun problema."
   ]
  },
  {
   "cell_type": "markdown",
   "metadata": {},
   "source": [
    "c)<a class=\"anchor\" id=\"c\"></a>"
   ]
  },
  {
   "cell_type": "code",
   "execution_count": 21,
   "metadata": {},
   "outputs": [],
   "source": [
    "class_label = df.pop(\"normal\").values -1 # 0 means absence, 1 means presence\n",
    "reg_label = df.pop(\"blood_p\").values\n",
    "X_data = df.values #array de las filas del dataset"
   ]
  },
  {
   "cell_type": "markdown",
   "metadata": {},
   "source": [
    "d)<a class=\"anchor\" id=\"d\"></a>"
   ]
  },
  {
   "cell_type": "code",
   "execution_count": 25,
   "metadata": {},
   "outputs": [
    {
     "name": "stdout",
     "output_type": "stream",
     "text": [
      "Train:  (184, 24)\n",
      "Test:  (86, 24)\n"
     ]
    }
   ],
   "source": [
    "np.random.seed(0)\n",
    "mask_test = np.random.rand(X_data.shape[0]) < 0.30\n",
    "...\n",
    "X_train = X_data[~mask_test] \n",
    "X_test = X_data[mask_test] \n",
    "...\n",
    "reg_label_train = reg_label[~mask_test] \n",
    "reg_label_test = reg_label[mask_test]\n",
    "...\n",
    "class_label_train = class_label[~mask_test] \n",
    "class_label_test = class_label[mask_test]\n",
    "...\n",
    "print(\"Train: \",X_train.shape)\n",
    "print(\"Test: \",X_test.shape)"
   ]
  },
  {
   "cell_type": "markdown",
   "metadata": {},
   "source": [
    "e)<a class=\"anchor\" id=\"e\"></a>"
   ]
  },
  {
   "cell_type": "markdown",
   "metadata": {},
   "source": [
    "from sklearn.preprocessing import StandardScaler\n",
    "std = StandardScaler()\n",
    "std.fit(X_train)\n",
    "Xstd_train = std.transform(X_train) \n",
    "Xstd_test = std.transform(X_test)"
   ]
  },
  {
   "cell_type": "markdown",
   "metadata": {},
   "source": [
    "### Importancia estandarización normal\n",
    "\n",
    "La estandarizacion normal viene a jugar un papel muy importante cuando se trabaja con datos que pueden estar en diferentes escalas (5[kg] y 500[g]), provocando que los que presentan mayor magnitud tengan mayor peso a la hora de realizar calculos, por ejemplo, de distancias."
   ]
  },
  {
   "cell_type": "markdown",
   "metadata": {},
   "source": [
    "f)<a class=\"anchor\" id=\"f\"></a>"
   ]
  },
  {
   "cell_type": "code",
   "execution_count": 47,
   "metadata": {},
   "outputs": [],
   "source": [
    "from sklearn.linear_model import LinearRegression\n",
    "model = LinearRegression(fit_intercept=True)\n",
    "model.fit(Xstd_train, reg_label_train)\n",
    "...\n",
    "reg_pred_train = model.predict(Xstd_train)\n",
    "reg_pred_test = model.predict(Xstd_test)\n"
   ]
  },
  {
   "cell_type": "code",
   "execution_count": 69,
   "metadata": {},
   "outputs": [
    {
     "data": {
      "text/plain": [
       "<function matplotlib.pyplot.show(*args, **kw)>"
      ]
     },
     "execution_count": 69,
     "metadata": {},
     "output_type": "execute_result"
    },
    {
     "data": {
      "image/png": "[encoded data removed]",
      "text/plain": [
       "<Figure size 1152x648 with 1 Axes>"
      ]
     },
     "metadata": {
      "needs_background": "light"
     },
     "output_type": "display_data"
    }
   ],
   "source": [
    "import numpy as np \n",
    "import pylab \n",
    "import scipy.stats as stats\n",
    "import matplotlib.pyplot as plt\n",
    "\n",
    "#fig = plst.figure()\n",
    "measurements = reg_pred_train   \n",
    "#stats.probplot(measurements, dist=\"norm\", plot=pylab)\n",
    "#pylab.show()\n",
    "\n",
    "\n",
    "fig = plt.figure(figsize=(16,9))\n",
    "ax = fig.add_subplot(111)\n",
    "res = stats.probplot(measurements, dist=\"norm\", plot=pylab)\n",
    "ax.set_title(\"Quantile-Quantile plot de train set\")\n",
    "plt.show\n"
   ]
  },
  {
   "cell_type": "code",
   "execution_count": 70,
   "metadata": {},
   "outputs": [
    {
     "data": {
      "text/plain": [
       "<function matplotlib.pyplot.show(*args, **kw)>"
      ]
     },
     "execution_count": 70,
     "metadata": {},
     "output_type": "execute_result"
    },
    {
     "data": {
      "image/png": "[encoded data removed]",
      "text/plain": [
       "<Figure size 1152x648 with 1 Axes>"
      ]
     },
     "metadata": {
      "needs_background": "light"
     },
     "output_type": "display_data"
    }
   ],
   "source": [
    "#fig = plst.figure()\n",
    "measurements = reg_pred_test   \n",
    "#stats.probplot(measurements, dist=\"norm\", plot=pylab)\n",
    "#pylab.show()\n",
    "\n",
    "\n",
    "fig = plt.figure(figsize=(16,9))\n",
    "ax = fig.add_subplot(111)\n",
    "res = stats.probplot(measurements, dist=\"norm\", plot=pylab)\n",
    "ax.set_title(\"Quantile-Quantile plot de test set\")\n",
    "plt.show"
   ]
  },
  {
   "cell_type": "markdown",
   "metadata": {},
   "source": [
    "### Observaciones\n",
    "\n",
    "Mediante los graficos se puede apreciar que los residuos resultan ser pequeños para ambos casos, aunque cabe destacar que para el training set se presentan con lo que parece ser mayor magnitud que en el caso del test set. De todas formas es posible decir que la hipotesis de normalidad es aceptable para este caso"
   ]
  },
  {
   "cell_type": "markdown",
   "metadata": {},
   "source": [
    "g)<a class=\"anchor\" id=\"g\"></a>"
   ]
  },
  {
   "cell_type": "code",
   "execution_count": 82,
   "metadata": {},
   "outputs": [
    {
     "data": {
      "text/plain": [
       "array([[ 1.6925911 ,  1.29249516, -1.79283968, ..., -0.26413527,\n",
       "         0.90652202, -0.79266549],\n",
       "       [ 1.36139284,  5.76291806,  0.49427391, ..., -0.26413527,\n",
       "        -1.10311716,  1.26156621],\n",
       "       [ 0.25739865,  0.16565302, -0.35778802, ..., -0.26413527,\n",
       "        -1.10311716,  1.26156621],\n",
       "       ...,\n",
       "       [-0.29459845, -0.97966194,  0.58396464, ..., -0.26413527,\n",
       "        -1.10311716,  1.26156621],\n",
       "       [ 0.14699923,  0.77525615,  0.18035636, ..., -0.26413527,\n",
       "         0.90652202, -0.79266549],\n",
       "       [ 1.36139284,  0.62747357, -1.83768504, ..., -0.26413527,\n",
       "         0.90652202, -0.79266549]])"
      ]
     },
     "execution_count": 82,
     "metadata": {},
     "output_type": "execute_result"
    }
   ],
   "source": [
    "Xstd_train"
   ]
  },
  {
   "cell_type": "code",
   "execution_count": null,
   "metadata": {},
   "outputs": [],
   "source": [
    "data = {}\n",
    "data['Z-score'] = Xstd_train #El Z-score se hace al estandarizar los valores\n",
    "data['F-score'] = #se calcula como 2*(Precision*Recall/Precision+Recall)"
   ]
  }
 ],
 "metadata": {
  "kernelspec": {
   "display_name": "Python 3",
   "language": "python",
   "name": "python3"
  },
  "language_info": {
   "codemirror_mode": {
    "name": "ipython",
    "version": 3
   },
   "file_extension": ".py",
   "mimetype": "text/x-python",
   "name": "python",
   "nbconvert_exporter": "python",
   "pygments_lexer": "ipython3",
   "version": "3.6.8"
  }
 },
 "nbformat": 4,
 "nbformat_minor": 2
}
